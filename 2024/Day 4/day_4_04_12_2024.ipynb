{
  "nbformat": 4,
  "nbformat_minor": 0,
  "metadata": {
    "colab": {
      "provenance": []
    },
    "kernelspec": {
      "name": "python3",
      "display_name": "Python 3"
    },
    "language_info": {
      "name": "python"
    }
  },
  "cells": [
    {
      "cell_type": "markdown",
      "source": [
        "Part 1"
      ],
      "metadata": {
        "id": "bKukW_E-bPYA"
      }
    },
    {
      "cell_type": "code",
      "source": [
        "def count_xmas_in_grid(file_path):\n",
        "    # Load the grid from the file\n",
        "    with open(file_path, 'r') as file:\n",
        "        grid = [line.strip() for line in file.readlines()]\n",
        "\n",
        "    rows = len(grid)\n",
        "    cols = len(grid[0]) if rows > 0 else 0\n",
        "    target = \"XMAS\"\n",
        "    target_len = len(target)\n",
        "    directions = [\n",
        "        (0, 1),   # Right\n",
        "        (1, 0),   # Down\n",
        "        (1, 1),   # Diagonal down-right\n",
        "        (1, -1),  # Diagonal down-left\n",
        "        (0, -1),  # Left\n",
        "        (-1, 0),  # Up\n",
        "        (-1, -1), # Diagonal up-left\n",
        "        (-1, 1),  # Diagonal up-right\n",
        "    ]\n",
        "\n",
        "    def is_valid(r, c, dr, dc):\n",
        "        \"\"\"Check if starting from (r, c) in direction (dr, dc) fits in the grid.\"\"\"\n",
        "        end_r = r + dr * (target_len - 1)\n",
        "        end_c = c + dc * (target_len - 1)\n",
        "        return 0 <= end_r < rows and 0 <= end_c < cols\n",
        "\n",
        "    def matches(r, c, dr, dc):\n",
        "        \"\"\"Check if XMAS exists starting from (r, c) in direction (dr, dc).\"\"\"\n",
        "        return all(\n",
        "            0 <= r + dr * i < rows and 0 <= c + dc * i < cols and grid[r + dr * i][c + dc * i] == target[i]\n",
        "            for i in range(target_len)\n",
        "        )\n",
        "\n",
        "    count = 0\n",
        "    for r in range(rows):\n",
        "        for c in range(cols):\n",
        "            for dr, dc in directions:\n",
        "                if is_valid(r, c, dr, dc) and matches(r, c, dr, dc):\n",
        "                    count += 1\n",
        "\n",
        "    return count\n",
        "\n",
        "# Example usage:\n",
        "file_path = \"/content/drive/MyDrive/Personal Project/Advent of Code/2024/Day_4/04_12_2024_input.txt\"  # Replace with your file path\n",
        "print(f\"Total XMAS found: {count_xmas_in_grid(file_path)}\")\n"
      ],
      "metadata": {
        "colab": {
          "base_uri": "https://localhost:8080/"
        },
        "id": "OaC4gwAJOfw9",
        "outputId": "96f649f9-1b12-4f65-bb1d-a4b350679f98"
      },
      "execution_count": 2,
      "outputs": [
        {
          "output_type": "stream",
          "name": "stdout",
          "text": [
            "Total XMAS found: 2578\n"
          ]
        }
      ]
    },
    {
      "cell_type": "markdown",
      "source": [
        "Part 2"
      ],
      "metadata": {
        "id": "d7rJOkUWbOMO"
      }
    },
    {
      "cell_type": "code",
      "source": [
        "def count_x_mas_in_grid(file_path):\n",
        "    # Load the grid from the file\n",
        "    with open(file_path, 'r') as file:\n",
        "        grid = [line.strip() for line in file.readlines()]\n",
        "\n",
        "    rows = len(grid)\n",
        "    cols = len(grid[0]) if rows > 0 else 0\n",
        "\n",
        "    # Valid patterns for the diagonals around 'A'\n",
        "    valid_patterns = [\"MMSS\", \"MSMS\", \"SMSM\", \"SSMM\"]\n",
        "    count = 0\n",
        "\n",
        "    # Iterate over each cell as the center \"A\"\n",
        "    for r in range(1, rows - 1):\n",
        "        for c in range(1, cols - 1):\n",
        "            if grid[r][c] != \"A\":\n",
        "                continue\n",
        "\n",
        "            # Form the diagonal pattern\n",
        "            left_diagonal = grid[r-1][c-1] + grid[r+1][c-1]\n",
        "            right_diagonal = grid[r-1][c+1] + grid[r+1][c+1]\n",
        "            combined_pattern = left_diagonal + right_diagonal\n",
        "\n",
        "            # Check if the combined pattern matches any valid pattern\n",
        "            if combined_pattern in valid_patterns:\n",
        "                count += 1\n",
        "\n",
        "    return count\n",
        "\n",
        "# Example usage\n",
        "file_path = \"/content/drive/MyDrive/Personal Project/Advent of Code/2024/Day_4/04_12_2024_input.txt\"  # Replace with actual path\n",
        "print(f\"Total X-MAS found: {count_x_mas_in_grid(file_path)}\")\n"
      ],
      "metadata": {
        "colab": {
          "base_uri": "https://localhost:8080/"
        },
        "id": "eeOfhJGPOy9l",
        "outputId": "5df91f67-a5c9-4dcf-a13e-8e910ec672a0"
      },
      "execution_count": 14,
      "outputs": [
        {
          "output_type": "stream",
          "name": "stdout",
          "text": [
            "Total X-MAS found: 1972\n"
          ]
        }
      ]
    },
    {
      "cell_type": "code",
      "source": [],
      "metadata": {
        "id": "PpnxpEvxPd-w"
      },
      "execution_count": null,
      "outputs": []
    }
  ]
}