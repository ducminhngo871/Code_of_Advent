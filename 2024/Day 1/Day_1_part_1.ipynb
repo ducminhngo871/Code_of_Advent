{
  "nbformat": 4,
  "nbformat_minor": 0,
  "metadata": {
    "colab": {
      "provenance": []
    },
    "kernelspec": {
      "name": "python3",
      "display_name": "Python 3"
    },
    "language_info": {
      "name": "python"
    }
  },
  "cells": [
    {
      "cell_type": "code",
      "execution_count": 3,
      "metadata": {
        "colab": {
          "base_uri": "https://localhost:8080/"
        },
        "id": "hmMl3vskoQbm",
        "outputId": "aa8c3ea7-ca63-4c9b-c473-b9449b71298a"
      },
      "outputs": [
        {
          "output_type": "stream",
          "name": "stdout",
          "text": [
            "Total Distance: 2375403\n"
          ]
        }
      ],
      "source": [
        "import pandas as pd\n",
        "\n",
        "# Load the Excel file\n",
        "file_path = \"/content/drive/MyDrive/Personal Project/Advent of Code/2024/Day_1/day_1_01_12_2024.xls\"  # Replace with your file path\n",
        "sheet_name = \"Sort Smallest to Largest\"         # Replace with your sheet name if needed\n",
        "data = pd.read_excel(file_path, sheet_name=sheet_name)\n",
        "\n",
        "# Ensure the column names match your Excel file\n",
        "column_1 = sorted(data['Column_1'].tolist())\n",
        "column_2 = sorted(data['Column_2'].tolist())\n",
        "\n",
        "def calculate_total_distance(col1, col2):\n",
        "    # Ensure both lists have the same length\n",
        "    if len(col1) != len(col2):\n",
        "        raise ValueError(\"Columns must have the same length for pairing.\")\n",
        "\n",
        "    # Calculate the total distance\n",
        "    total_distance = sum(abs(a - b) for a, b in zip(col1, col2))\n",
        "    return total_distance\n",
        "\n",
        "# Calculate the total distance\n",
        "total_distance = calculate_total_distance(column_1, column_2)\n",
        "print(\"Total Distance:\", total_distance)"
      ]
    },
    {
      "cell_type": "code",
      "source": [],
      "metadata": {
        "id": "U35DVYq1oVty"
      },
      "execution_count": null,
      "outputs": []
    }
  ]
}