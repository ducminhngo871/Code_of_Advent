{
  "nbformat": 4,
  "nbformat_minor": 0,
  "metadata": {
    "colab": {
      "provenance": []
    },
    "kernelspec": {
      "name": "python3",
      "display_name": "Python 3"
    },
    "language_info": {
      "name": "python"
    }
  },
  "cells": [
    {
      "cell_type": "code",
      "execution_count": 3,
      "metadata": {
        "colab": {
          "base_uri": "https://localhost:8080/"
        },
        "id": "LKYYCt-zib_z",
        "outputId": "0bf151b7-1025-42d8-b715-efd61e21b57a"
      },
      "outputs": [
        {
          "output_type": "stream",
          "name": "stdout",
          "text": [
            "Similarity Score: 23082277\n"
          ]
        }
      ],
      "source": [
        "import pandas as pd\n",
        "from collections import Counter\n",
        "\n",
        "# Load the Excel file\n",
        "file_path = \"/content/drive/MyDrive/Personal Project/Advent of Code/2024/Day_1/day_1_01_12_2024.xls\"  # Replace with your file path\n",
        "sheet_name = \"Sort Smallest to Largest\"         # Replace with your sheet name if needed\n",
        "data = pd.read_excel(file_path, sheet_name=sheet_name)\n",
        "\n",
        "# Ensure the column names match your Excel file\n",
        "column_1 = data['Column_1'].tolist()\n",
        "column_2 = data['Column_2'].tolist()\n",
        "\n",
        "def calculate_similarity_score(col1, col2):\n",
        "    # Count occurrences in Column_2\n",
        "    col2_counts = Counter(col2)\n",
        "\n",
        "    # Initialize the similarity score\n",
        "    similarity_score = 0\n",
        "\n",
        "    # Calculate the score\n",
        "    for value in col1:\n",
        "        similarity_score += value * col2_counts.get(value, 0)\n",
        "\n",
        "    return similarity_score\n",
        "\n",
        "# Calculate the similarity score\n",
        "score = calculate_similarity_score(column_1, column_2)\n",
        "print(\"Similarity Score:\", score)"
      ]
    },
    {
      "cell_type": "code",
      "source": [],
      "metadata": {
        "id": "P5h_rl-Ulpdd"
      },
      "execution_count": null,
      "outputs": []
    }
  ]
}