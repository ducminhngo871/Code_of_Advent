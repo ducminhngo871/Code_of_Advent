{
  "nbformat": 4,
  "nbformat_minor": 0,
  "metadata": {
    "colab": {
      "provenance": []
    },
    "kernelspec": {
      "name": "python3",
      "display_name": "Python 3"
    },
    "language_info": {
      "name": "python"
    }
  },
  "cells": [
    {
      "cell_type": "code",
      "execution_count": 1,
      "metadata": {
        "colab": {
          "base_uri": "https://localhost:8080/"
        },
        "id": "Z9S5wcwDUvA-",
        "outputId": "999349f5-149f-46f8-b8b5-0851ccb27308"
      },
      "outputs": [
        {
          "output_type": "stream",
          "name": "stdout",
          "text": [
            "Number of possible designs: 247\n"
          ]
        }
      ],
      "source": [
        "def parse_input(input_text):\n",
        "    \"\"\"Parse the input into available towel patterns and desired designs.\"\"\"\n",
        "    sections = input_text.strip().split(\"\\n\\n\")\n",
        "    towel_patterns = sections[0].split(\", \")\n",
        "    desired_designs = sections[1].split(\"\\n\")\n",
        "    return towel_patterns, desired_designs\n",
        "\n",
        "\n",
        "def can_construct_design(design, towel_patterns):\n",
        "    \"\"\"Check if a design can be constructed using the towel patterns.\"\"\"\n",
        "    # Use dynamic programming to determine if the design can be formed\n",
        "    dp = [False] * (len(design) + 1)\n",
        "    dp[0] = True  # Base case: an empty design can always be formed\n",
        "\n",
        "    for i in range(1, len(design) + 1):\n",
        "        for pattern in towel_patterns:\n",
        "            if i >= len(pattern) and design[i - len(pattern):i] == pattern:\n",
        "                dp[i] = dp[i] or dp[i - len(pattern)]\n",
        "\n",
        "    return dp[len(design)]\n",
        "\n",
        "\n",
        "def count_possible_designs_from_file(file_path):\n",
        "    \"\"\"Count how many designs can be constructed from a file.\"\"\"\n",
        "    with open(file_path, 'r') as file:\n",
        "        input_text = file.read()\n",
        "    towel_patterns, desired_designs = parse_input(input_text)\n",
        "    possible_count = sum(can_construct_design(design, towel_patterns) for design in desired_designs)\n",
        "    return possible_count\n",
        "\n",
        "# Example usage\n",
        "file_path = \"/content/drive/MyDrive/Personal Project/Advent of Code/2024/Day_19/input_19_12_2024.txt\"  # Replace with your file path\n",
        "result = count_possible_designs_from_file(file_path)\n",
        "print(f\"Number of possible designs: {result}\")\n"
      ]
    },
    {
      "cell_type": "code",
      "source": [
        "from collections import defaultdict\n",
        "\n",
        "def parse_input(input_text):\n",
        "    \"\"\"Parse the input into available towel patterns and desired designs.\"\"\"\n",
        "    sections = input_text.strip().split(\"\\n\\n\")\n",
        "    towel_patterns = sections[0].split(\", \")\n",
        "    desired_designs = sections[1].split(\"\\n\")\n",
        "    return towel_patterns, desired_designs\n",
        "\n",
        "\n",
        "def count_arrangements(design, towel_patterns):\n",
        "    \"\"\"Count the number of ways a design can be constructed using the towel patterns.\"\"\"\n",
        "    # Use dynamic programming to count arrangements\n",
        "    dp = defaultdict(int)\n",
        "    dp[0] = 1  # Base case: there's one way to form an empty design\n",
        "\n",
        "    for i in range(1, len(design) + 1):\n",
        "        for pattern in towel_patterns:\n",
        "            if i >= len(pattern) and design[i - len(pattern):i] == pattern:\n",
        "                dp[i] += dp[i - len(pattern)]\n",
        "\n",
        "    return dp[len(design)]\n",
        "\n",
        "\n",
        "def total_arrangements_from_file(file_path):\n",
        "    \"\"\"Calculate the total number of arrangements for all designs from a file.\"\"\"\n",
        "    with open(file_path, 'r') as file:\n",
        "        input_text = file.read()\n",
        "    towel_patterns, desired_designs = parse_input(input_text)\n",
        "    total_arrangements = sum(count_arrangements(design, towel_patterns) for design in desired_designs)\n",
        "    return total_arrangements\n",
        "\n",
        "# Example usage\n",
        "file_path = \"/content/drive/MyDrive/Personal Project/Advent of Code/2024/Day_19/input_19_12_2024.txt\"  # Replace with your file path\n",
        "total_arrangements = total_arrangements_from_file(file_path)\n",
        "print(f\"Total number of arrangements: {total_arrangements}\")\n"
      ],
      "metadata": {
        "colab": {
          "base_uri": "https://localhost:8080/"
        },
        "id": "Z_2jyX5SVObt",
        "outputId": "5ed9c8bb-d8fe-467d-e63b-d083e6c09c5c"
      },
      "execution_count": 2,
      "outputs": [
        {
          "output_type": "stream",
          "name": "stdout",
          "text": [
            "Total number of arrangements: 692596560138745\n"
          ]
        }
      ]
    },
    {
      "cell_type": "code",
      "source": [],
      "metadata": {
        "id": "0oUa7bGYVgXs"
      },
      "execution_count": null,
      "outputs": []
    }
  ]
}