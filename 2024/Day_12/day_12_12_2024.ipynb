{
  "nbformat": 4,
  "nbformat_minor": 0,
  "metadata": {
    "colab": {
      "provenance": []
    },
    "kernelspec": {
      "name": "python3",
      "display_name": "Python 3"
    },
    "language_info": {
      "name": "python"
    }
  },
  "cells": [
    {
      "cell_type": "markdown",
      "source": [
        "PART 1"
      ],
      "metadata": {
        "id": "HLpjPsH3UaWX"
      }
    },
    {
      "cell_type": "code",
      "execution_count": null,
      "metadata": {
        "colab": {
          "base_uri": "https://localhost:8080/"
        },
        "id": "ny_-cLPBUOp9",
        "outputId": "1489cfaa-dce0-4ab1-8198-1be317c4c444"
      },
      "outputs": [
        {
          "output_type": "stream",
          "name": "stdout",
          "text": [
            "Total price of fencing: 1473276\n"
          ]
        }
      ],
      "source": [
        "from collections import deque\n",
        "\n",
        "def read_map(filename):\n",
        "    \"\"\"Read the garden map from a file.\"\"\"\n",
        "    with open(filename, 'r') as file:\n",
        "        return [list(line.strip()) for line in file]\n",
        "\n",
        "def flood_fill(grid, visited, start, plant_type):\n",
        "    \"\"\"Perform BFS to find all plots in the same region.\"\"\"\n",
        "    rows, cols = len(grid), len(grid[0])\n",
        "    queue = deque([start])\n",
        "    region = []\n",
        "\n",
        "    while queue:\n",
        "        r, c = queue.popleft()\n",
        "        if (r, c) in visited or grid[r][c] != plant_type:\n",
        "            continue\n",
        "\n",
        "        visited.add((r, c))\n",
        "        region.append((r, c))\n",
        "\n",
        "        # Add neighbors\n",
        "        for dr, dc in [(-1, 0), (1, 0), (0, -1), (0, 1)]:\n",
        "            nr, nc = r + dr, c + dc\n",
        "            if 0 <= nr < rows and 0 <= nc < cols:\n",
        "                queue.append((nr, nc))\n",
        "\n",
        "    return region\n",
        "\n",
        "def calculate_perimeter(grid, region):\n",
        "    \"\"\"Calculate the perimeter of a region.\"\"\"\n",
        "    perimeter = 0\n",
        "    rows, cols = len(grid), len(grid[0])\n",
        "\n",
        "    for r, c in region:\n",
        "        for dr, dc in [(-1, 0), (1, 0), (0, -1), (0, 1)]:\n",
        "            nr, nc = r + dr, c + dc\n",
        "            # Check if neighbor is outside the region or map boundary\n",
        "            if not (0 <= nr < rows and 0 <= nc < cols) or grid[nr][nc] != grid[r][c]:\n",
        "                perimeter += 1\n",
        "\n",
        "    return perimeter\n",
        "\n",
        "def calculate_costs(grid):\n",
        "    \"\"\"Calculate the total cost of fencing all regions.\"\"\"\n",
        "    visited = set()\n",
        "    total_price = 0\n",
        "\n",
        "    for r in range(len(grid)):\n",
        "        for c in range(len(grid[0])):\n",
        "            if (r, c) not in visited:\n",
        "                # Find the region\n",
        "                region = flood_fill(grid, visited, (r, c), grid[r][c])\n",
        "                area = len(region)\n",
        "                perimeter = calculate_perimeter(grid, region)\n",
        "                cost = area * perimeter\n",
        "                total_price += cost\n",
        "\n",
        "    return total_price\n",
        "\n",
        "# Main Program\n",
        "if __name__ == \"__main__\":\n",
        "    garden_map = read_map(\"/content/drive/MyDrive/Personal Project/Advent of Code/2024/Day_12/input_12_12_2024.txt\")\n",
        "    total_price = calculate_costs(garden_map)\n",
        "    print(f\"Total price of fencing: {total_price}\")\n"
      ]
    },
    {
      "cell_type": "markdown",
      "source": [
        "PART 2"
      ],
      "metadata": {
        "id": "oCvJeO2HrpsE"
      }
    },
    {
      "cell_type": "code",
      "source": [
        "from collections import defaultdict, deque\n",
        "\n",
        "def parse_map(input_file):\n",
        "    \"\"\"Reads the garden map from an input file.\"\"\"\n",
        "    with open(input_file, 'r') as f:\n",
        "        garden_map = [list(line.strip()) for line in f]\n",
        "    return garden_map\n",
        "\n",
        "def scan(plot, garden, visited):\n",
        "    \"\"\"Performs a BFS to find all cells in a region and calculate its perimeter.\"\"\"\n",
        "    bfs_q = deque()\n",
        "    bfs_q.append(plot)\n",
        "    region = [plot]\n",
        "    region_perimeter = 0\n",
        "\n",
        "    while len(bfs_q) > 0:\n",
        "        x, y = bfs_q.popleft()\n",
        "        curval = garden[y][x]\n",
        "        visited.append((x, y))\n",
        "        perimeter = 4\n",
        "        for nx, ny in [(0, 1), (0, -1), (1, 0), (-1, 0)]:\n",
        "            tx = x + nx\n",
        "            ty = y + ny\n",
        "            if 0 <= ty < len(garden) and 0 <= tx < len(garden[0]):\n",
        "                if garden[ty][tx] == curval:\n",
        "                    perimeter -= 1\n",
        "                    if (tx, ty) not in visited and (tx, ty) not in bfs_q:\n",
        "                        bfs_q.append((tx, ty))\n",
        "                        region.append((tx, ty))\n",
        "        region_perimeter += perimeter\n",
        "    return region, region_perimeter\n",
        "\n",
        "def count_sides(region, garden):\n",
        "    \"\"\"Calculates the number of unique sides for a region.\"\"\"\n",
        "    visited = set()\n",
        "    sides = 0\n",
        "    for (x, y) in region:\n",
        "        for nx, ny in [(0, 1), (0, -1), (1, 0), (-1, 0)]:\n",
        "            tx = x + nx\n",
        "            ty = y + ny\n",
        "            if (tx, ty) not in region:\n",
        "                cx, cy = x, y\n",
        "                while (cx + ny, cy + nx) in region and (cx + nx, cy + ny) not in region:\n",
        "                    cx += ny\n",
        "                    cy += nx\n",
        "                if (cx, cy, nx, ny) not in visited:\n",
        "                    visited.add((cx, cy, nx, ny))\n",
        "                    sides += 1\n",
        "    return sides\n",
        "\n",
        "def calculate_regions_and_price(garden):\n",
        "    \"\"\"Finds all regions and calculates the total price.\"\"\"\n",
        "    regions = []\n",
        "    total_price = 0\n",
        "    visited = []\n",
        "\n",
        "    for y, v1 in enumerate(garden):\n",
        "        for x, v2 in enumerate(v1):\n",
        "            if (x, y) not in visited:\n",
        "                region, _ = scan((x, y), garden, visited)\n",
        "                sides = count_sides(region, garden)\n",
        "                area = len(region)\n",
        "                total_price += area * sides\n",
        "    return total_price\n",
        "\n",
        "if __name__ == \"__main__\":\n",
        "    # Input file containing the garden map\n",
        "    input_file = \"/content/drive/MyDrive/Personal Project/Advent of Code/2024/Day_12/input_12_12_2024.txt\"\n",
        "\n",
        "    # Step 1: Parse the garden map\n",
        "    garden_map = parse_map(input_file)\n",
        "\n",
        "    # Step 2: Calculate regions and total price\n",
        "    total_price = calculate_regions_and_price(garden_map)\n",
        "\n",
        "    print(f\"Total Price: {total_price}\")\n"
      ],
      "metadata": {
        "colab": {
          "base_uri": "https://localhost:8080/"
        },
        "id": "-7tnfH-yrGPU",
        "outputId": "48265253-5d61-450d-cee3-3cd492e68fcd"
      },
      "execution_count": null,
      "outputs": [
        {
          "output_type": "stream",
          "name": "stdout",
          "text": [
            "Total Price: 901100\n"
          ]
        }
      ]
    },
    {
      "cell_type": "code",
      "source": [],
      "metadata": {
        "id": "d1ZX9ymdkGwd"
      },
      "execution_count": null,
      "outputs": []
    }
  ]
}