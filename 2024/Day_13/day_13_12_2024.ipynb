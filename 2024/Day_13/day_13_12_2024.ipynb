{
  "nbformat": 4,
  "nbformat_minor": 0,
  "metadata": {
    "colab": {
      "provenance": []
    },
    "kernelspec": {
      "name": "python3",
      "display_name": "Python 3"
    },
    "language_info": {
      "name": "python"
    }
  },
  "cells": [
    {
      "cell_type": "code",
      "source": [
        "!pip install z3-solver\n"
      ],
      "metadata": {
        "colab": {
          "base_uri": "https://localhost:8080/",
          "height": 242
        },
        "id": "I8SvpOi5kdnT",
        "outputId": "75199e26-d923-4020-a080-a79774d1bac3"
      },
      "execution_count": null,
      "outputs": [
        {
          "output_type": "stream",
          "name": "stdout",
          "text": [
            "Collecting z3-solver\n",
            "  Downloading z3_solver-4.13.3.0-py3-none-manylinux_2_17_x86_64.manylinux2014_x86_64.whl.metadata (602 bytes)\n",
            "Downloading z3_solver-4.13.3.0-py3-none-manylinux_2_17_x86_64.manylinux2014_x86_64.whl (28.1 MB)\n",
            "\u001b[2K   \u001b[90m━━━━━━━━━━━━━━━━━━━━━━━━━━━━━━━━━━━━━━━━\u001b[0m \u001b[32m28.1/28.1 MB\u001b[0m \u001b[31m63.7 MB/s\u001b[0m eta \u001b[36m0:00:00\u001b[0m\n",
            "\u001b[?25hInstalling collected packages: z3-solver\n",
            "Successfully installed z3-solver-4.13.3.0\n"
          ]
        },
        {
          "output_type": "display_data",
          "data": {
            "application/vnd.colab-display-data+json": {
              "pip_warning": {
                "packages": [
                  "z3"
                ]
              },
              "id": "9d4a4815fbd547eebca312008597d86e"
            }
          },
          "metadata": {}
        }
      ]
    },
    {
      "cell_type": "markdown",
      "source": [
        "Part 1"
      ],
      "metadata": {
        "id": "-5Oqt_DEkYVx"
      }
    },
    {
      "cell_type": "code",
      "source": [
        "from itertools import product\n",
        "\n",
        "# Function to parse the input file\n",
        "def parse_input(file_path):\n",
        "    machines = []\n",
        "    with open(file_path, 'r') as f:\n",
        "        data = f.read().strip().split('\\n\\n')\n",
        "        for block in data:\n",
        "            lines = block.split('\\n')\n",
        "            a_x, a_y = map(int, lines[0].split(':')[1].strip().replace('X+', '').replace('Y+', '').split(','))\n",
        "            b_x, b_y = map(int, lines[1].split(':')[1].strip().replace('X+', '').replace('Y+', '').split(','))\n",
        "            p_x, p_y = map(int, lines[2].split(':')[1].strip().replace('X=', '').replace('Y=', '').split(','))\n",
        "            machines.append(((a_x, a_y), (b_x, b_y), (p_x, p_y)))\n",
        "    return machines\n",
        "\n",
        "# Function to find minimum cost solution for a single machine using brute force\n",
        "def solve_machine_bruteforce(a, b, prize):\n",
        "    (a_x, a_y), (b_x, b_y), (p_x, p_y) = a, b, prize\n",
        "\n",
        "    min_cost = float('inf')\n",
        "    found_solution = False\n",
        "\n",
        "    # Iterate through all possible counts of A and B presses\n",
        "    for count_a, count_b in product(range(101), repeat=2):\n",
        "        x = count_a * a_x + count_b * b_x\n",
        "        y = count_a * a_y + count_b * b_y\n",
        "\n",
        "        if x == p_x and y == p_y:\n",
        "            cost = count_a * 3 + count_b * 1\n",
        "            min_cost = min(min_cost, cost)\n",
        "            found_solution = True\n",
        "\n",
        "    return min_cost if found_solution else None\n",
        "\n",
        "# Main function to solve all machines\n",
        "def solve_all_machines(file_path):\n",
        "    machines = parse_input(file_path)\n",
        "    total_cost = 0\n",
        "    solvable_machines = 0\n",
        "\n",
        "    for machine in machines:\n",
        "        cost = solve_machine_bruteforce(*machine)\n",
        "        if cost is not None:\n",
        "            total_cost += cost\n",
        "            solvable_machines += 1\n",
        "\n",
        "    return solvable_machines, total_cost\n",
        "\n",
        "# Example usage\n",
        "if __name__ == \"__main__\":\n",
        "    file_path = \"/content/drive/MyDrive/Personal Project/Advent of Code/2024/Day_13/input_13_12_2024.txt\"  # Replace with your file path\n",
        "    solvable, cost = solve_all_machines(file_path)\n",
        "    print(f\"Number of solvable machines: {solvable}\")\n",
        "    print(f\"Total tokens required: {cost}\")\n"
      ],
      "metadata": {
        "colab": {
          "base_uri": "https://localhost:8080/"
        },
        "id": "vcKc6YlhccsW",
        "outputId": "08255867-89a3-4662-990e-b177f5b82278"
      },
      "execution_count": null,
      "outputs": [
        {
          "output_type": "stream",
          "name": "stdout",
          "text": [
            "Number of solvable machines: 146\n",
            "Total tokens required: 29023\n"
          ]
        }
      ]
    },
    {
      "cell_type": "markdown",
      "source": [
        "Part 2"
      ],
      "metadata": {
        "id": "XbAJ4wbskXU7"
      }
    },
    {
      "cell_type": "code",
      "source": [
        "data = []\n",
        "with open(\"/content/drive/MyDrive/Personal Project/Advent of Code/2024/Day_13/input_13_12_2024.txt\", 'r') as f:\n",
        "    data = f.read().strip('\\n').split('\\n')\n",
        "\n",
        "offset = 10000000000000\n",
        "groups = '\\n'.join(data).split('\\n\\n')\n",
        "total = 0\n",
        "for group in groups:\n",
        "    a_str, b_str, p_str = group.split('\\n')\n",
        "\n",
        "    ax, ay = [int(x[2:]) for x in a_str[10:].split(', ')]\n",
        "    bx, by = [int(x[2:]) for x in b_str[10:].split(', ')]\n",
        "    px, py = [int(x[2:]) for x in p_str[7:].split(', ')]\n",
        "\n",
        "    px += offset\n",
        "    py += offset\n",
        "\n",
        "    m = (px * by - py * bx) // (ax * by - ay * bx)\n",
        "    if m * (ax * by - ay * bx) != (px * by - py * bx):\n",
        "        continue\n",
        "    n = (py - ay * m) // by\n",
        "    if n * by != (py - ay * m):\n",
        "        continue\n",
        "\n",
        "    total += 3 * m + n\n",
        "\n",
        "print(total)"
      ],
      "metadata": {
        "colab": {
          "base_uri": "https://localhost:8080/"
        },
        "id": "eORpRb2IeinC",
        "outputId": "fee9535d-0dc0-4e7f-db70-3eb7cab8ea71"
      },
      "execution_count": null,
      "outputs": [
        {
          "output_type": "stream",
          "name": "stdout",
          "text": [
            "96787395375634\n"
          ]
        }
      ]
    },
    {
      "cell_type": "code",
      "source": [],
      "metadata": {
        "id": "-iYfUQlUfv4o"
      },
      "execution_count": null,
      "outputs": []
    }
  ]
}