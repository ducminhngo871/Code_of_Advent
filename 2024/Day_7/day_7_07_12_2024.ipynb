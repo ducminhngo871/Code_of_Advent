{
  "nbformat": 4,
  "nbformat_minor": 0,
  "metadata": {
    "colab": {
      "provenance": []
    },
    "kernelspec": {
      "name": "python3",
      "display_name": "Python 3"
    },
    "language_info": {
      "name": "python"
    }
  },
  "cells": [
    {
      "cell_type": "markdown",
      "source": [
        "Part 1"
      ],
      "metadata": {
        "id": "eM4NYRa0hcCb"
      }
    },
    {
      "cell_type": "code",
      "execution_count": 21,
      "metadata": {
        "colab": {
          "base_uri": "https://localhost:8080/"
        },
        "id": "UgqUHTioPR44",
        "outputId": "99b417e7-cf93-49fa-e7ea-0404ee5f27da"
      },
      "outputs": [
        {
          "output_type": "stream",
          "name": "stdout",
          "text": [
            "Total Calibration Result: 3351424677624\n"
          ]
        }
      ],
      "source": [
        "from itertools import product\n",
        "\n",
        "# Function to evaluate expression left-to-right\n",
        "def evaluate_left_to_right(numbers, operators):\n",
        "    result = numbers[0]\n",
        "    for i in range(len(operators)):\n",
        "        if operators[i] == '+':\n",
        "            result += numbers[i + 1]\n",
        "        elif operators[i] == '*':\n",
        "            result *= numbers[i + 1]\n",
        "    return result\n",
        "\n",
        "def compute_calibration_result(file_path):\n",
        "    total_calibration_result = 0\n",
        "\n",
        "    # Read the file\n",
        "    with open(file_path, 'r') as file:\n",
        "        lines = file.readlines()\n",
        "\n",
        "    for line in lines:\n",
        "        # Parse the line\n",
        "        test_value, numbers = line.strip().split(\": \")\n",
        "        test_value = int(test_value)\n",
        "        numbers = list(map(int, numbers.split()))\n",
        "\n",
        "        # Generate all operator combinations\n",
        "        num_operators = len(numbers) - 1\n",
        "        operator_combinations = product(\"+*\", repeat=num_operators)\n",
        "\n",
        "        # Check if any valid solution exists\n",
        "        for ops in operator_combinations:\n",
        "            if evaluate_left_to_right(numbers, ops) == test_value:\n",
        "                total_calibration_result += test_value\n",
        "                break  # No need to check further once a valid solution is found\n",
        "\n",
        "    return total_calibration_result\n",
        "\n",
        "# Call the function with the file path\n",
        "file_path = \"/content/drive/MyDrive/Personal Project/Advent of Code/2024/Day_7/input_07_12_2024.txt\"  # Replace with your file name\n",
        "result = compute_calibration_result(file_path)\n",
        "print(f\"Total Calibration Result: {result}\")\n"
      ]
    },
    {
      "cell_type": "markdown",
      "source": [
        "Part 2"
      ],
      "metadata": {
        "id": "qNfB1bPLhd0O"
      }
    },
    {
      "cell_type": "code",
      "source": [
        "from itertools import product\n",
        "import math\n",
        "\n",
        "# Function to compute concatenation mathematically\n",
        "def concatenate_numbers(a, b):\n",
        "    digits = math.ceil(math.log10(b + 1))  # Compute number of digits in `b`\n",
        "    return a * (10 ** digits) + b\n",
        "\n",
        "# Function to evaluate all combinations iteratively\n",
        "def compute_calibration_result(file_path, part1=True):\n",
        "    total_calibration_result = 0\n",
        "\n",
        "    # Read the file\n",
        "    with open(file_path, 'r') as file:\n",
        "        lines = file.readlines()\n",
        "\n",
        "    for line in lines:\n",
        "        # Parse the line\n",
        "        test_value, numbers = line.strip().split(\": \")\n",
        "        test_value = int(test_value)\n",
        "        numbers = list(map(int, numbers.split()))\n",
        "\n",
        "        # Use a stack to simulate recursive evaluation\n",
        "        stack = [(numbers[0], 0)]  # Start with the first number and operator index 0\n",
        "\n",
        "        while stack:\n",
        "            current, index = stack.pop()\n",
        "\n",
        "            # If we've processed all numbers, check if the result matches\n",
        "            if index == len(numbers) - 1:\n",
        "                if current == test_value:\n",
        "                    total_calibration_result += test_value\n",
        "                    break  # No need to check further once a valid solution is found\n",
        "                continue\n",
        "\n",
        "            # Apply each operator\n",
        "            next_number = numbers[index + 1]\n",
        "            stack.append((current + next_number, index + 1))  # Addition\n",
        "            stack.append((current * next_number, index + 1))  # Multiplication\n",
        "\n",
        "            # Apply concatenation if part2\n",
        "            if not part1:\n",
        "                stack.append((concatenate_numbers(current, next_number), index + 1))\n",
        "\n",
        "    return total_calibration_result\n",
        "\n",
        "# Call the function for both parts\n",
        "file_path = \"/content/drive/MyDrive/Personal Project/Advent of Code/2024/Day_7/input_07_12_2024.txt\"  # Replace with your file name\n",
        "\n",
        "# Part 1 (without concatenation)\n",
        "# result_part1 = compute_calibration_result(file_path, part1=True)\n",
        "# print(f\"Part 1, evaluated result is: {result_part1}\")\n",
        "\n",
        "# Part 2 (with concatenation)\n",
        "result_part2 = compute_calibration_result(file_path, part1=False)\n",
        "print(f\"Part 2, evaluated result is: {result_part2}\")\n"
      ],
      "metadata": {
        "colab": {
          "base_uri": "https://localhost:8080/"
        },
        "id": "wQyJWTEbehb6",
        "outputId": "bdf8143e-eb02-4f3b-a9aa-58e1693868f3"
      },
      "execution_count": 23,
      "outputs": [
        {
          "output_type": "stream",
          "name": "stdout",
          "text": [
            "Part 1, evaluated result is: 3351424677624\n",
            "Part 2, evaluated result is: 204976636995111\n"
          ]
        }
      ]
    },
    {
      "cell_type": "code",
      "source": [],
      "metadata": {
        "id": "IPkRQyoLVYJF"
      },
      "execution_count": null,
      "outputs": []
    }
  ]
}