{
  "nbformat": 4,
  "nbformat_minor": 0,
  "metadata": {
    "colab": {
      "provenance": []
    },
    "kernelspec": {
      "name": "python3",
      "display_name": "Python 3"
    },
    "language_info": {
      "name": "python"
    }
  },
  "cells": [
    {
      "cell_type": "code",
      "source": [
        "from collections import deque\n",
        "\n",
        "def parse_input(input_data):\n",
        "    \"\"\"Parse the input into a list of byte positions.\"\"\"\n",
        "    return [tuple(map(int, line.split(','))) for line in input_data.strip().split('\\n')]\n",
        "\n",
        "def simulate_corruption(grid_size, byte_positions, num_bytes):\n",
        "    \"\"\"Simulate corruption of the grid by falling bytes.\"\"\"\n",
        "    grid = [['.' for _ in range(grid_size)] for _ in range(grid_size)]\n",
        "\n",
        "    for i, (x, y) in enumerate(byte_positions):\n",
        "        if i >= num_bytes:\n",
        "            break\n",
        "        if 0 <= x < grid_size and 0 <= y < grid_size:  # Ensure the position is within bounds\n",
        "            grid[y][x] = '#'\n",
        "\n",
        "    return grid\n",
        "\n",
        "def find_shortest_path(grid):\n",
        "    \"\"\"Find the shortest path using BFS.\"\"\"\n",
        "    grid_size = len(grid)\n",
        "    start = (0, 0)\n",
        "    end = (grid_size - 1, grid_size - 1)\n",
        "\n",
        "    if grid[0][0] == '#' or grid[end[1]][end[0]] == '#':\n",
        "        return -1  # No path if start or end is corrupted\n",
        "\n",
        "    # BFS setup\n",
        "    queue = deque([(0, 0, 0)])  # (x, y, steps)\n",
        "    visited = set()\n",
        "    visited.add((0, 0))\n",
        "\n",
        "    directions = [(-1, 0), (1, 0), (0, -1), (0, 1)]  # Up, Down, Left, Right\n",
        "\n",
        "    while queue:\n",
        "        x, y, steps = queue.popleft()\n",
        "\n",
        "        if (x, y) == end:\n",
        "            return steps\n",
        "\n",
        "        for dx, dy in directions:\n",
        "            nx, ny = x + dx, y + dy\n",
        "            if 0 <= nx < grid_size and 0 <= ny < grid_size and (nx, ny) not in visited and grid[ny][nx] == '.':\n",
        "                visited.add((nx, ny))\n",
        "                queue.append((nx, ny, steps + 1))\n",
        "\n",
        "    return -1  # No path found\n",
        "\n",
        "def main():\n",
        "    # Read input from file\n",
        "    file_path = \"/content/drive/MyDrive/Personal Project/Advent of Code/2024/Day_18/input_18_12_2024.txt\"  # Replace with your file path\n",
        "    with open(file_path, 'r') as file:\n",
        "        input_data = file.read()\n",
        "\n",
        "    grid_size = 71  # The full grid size is 71x71\n",
        "    num_bytes = 1024  # Simulate the first 1024 bytes\n",
        "\n",
        "    byte_positions = parse_input(input_data)\n",
        "    grid = simulate_corruption(grid_size, byte_positions, num_bytes)\n",
        "\n",
        "    # Find the shortest path\n",
        "    steps = find_shortest_path(grid)\n",
        "    print(f\"Minimum steps to reach the exit: {steps}\")\n",
        "\n",
        "if __name__ == \"__main__\":\n",
        "    main()\n"
      ],
      "metadata": {
        "colab": {
          "base_uri": "https://localhost:8080/"
        },
        "id": "zYlQkO-dd6NC",
        "outputId": "d9bea608-844a-4f5c-b2ee-7072ac87cd4c"
      },
      "execution_count": 3,
      "outputs": [
        {
          "output_type": "stream",
          "name": "stdout",
          "text": [
            "Minimum steps to reach the exit: 438\n"
          ]
        }
      ]
    },
    {
      "cell_type": "code",
      "source": [
        "from collections import deque\n",
        "\n",
        "def parse_input(input_data):\n",
        "    \"\"\"Parse the input into a list of byte positions.\"\"\"\n",
        "    return [tuple(map(int, line.split(','))) for line in input_data.strip().split('\\n')]\n",
        "\n",
        "def simulate_corruption(grid_size, byte_positions, num_bytes):\n",
        "    \"\"\"Simulate corruption of the grid by falling bytes.\"\"\"\n",
        "    grid = [['.' for _ in range(grid_size)] for _ in range(grid_size)]\n",
        "\n",
        "    for i, (x, y) in enumerate(byte_positions):\n",
        "        if i >= num_bytes:\n",
        "            break\n",
        "        if 0 <= x < grid_size and 0 <= y < grid_size:  # Ensure the position is within bounds\n",
        "            grid[y][x] = '#'\n",
        "\n",
        "    return grid\n",
        "\n",
        "def find_shortest_path(grid):\n",
        "    \"\"\"Find the shortest path using BFS.\"\"\"\n",
        "    grid_size = len(grid)\n",
        "    start = (0, 0)\n",
        "    end = (grid_size - 1, grid_size - 1)\n",
        "\n",
        "    if grid[0][0] == '#' or grid[end[1]][end[0]] == '#':\n",
        "        return -1  # No path if start or end is corrupted\n",
        "\n",
        "    # BFS setup\n",
        "    queue = deque([(0, 0, 0)])  # (x, y, steps)\n",
        "    visited = set()\n",
        "    visited.add((0, 0))\n",
        "\n",
        "    directions = [(-1, 0), (1, 0), (0, -1), (0, 1)]  # Up, Down, Left, Right\n",
        "\n",
        "    while queue:\n",
        "        x, y, steps = queue.popleft()\n",
        "\n",
        "        if (x, y) == end:\n",
        "            return steps\n",
        "\n",
        "        for dx, dy in directions:\n",
        "            nx, ny = x + dx, y + dy\n",
        "            if 0 <= nx < grid_size and 0 <= ny < grid_size and (nx, ny) not in visited and grid[ny][nx] == '.':\n",
        "                visited.add((nx, ny))\n",
        "                queue.append((nx, ny, steps + 1))\n",
        "\n",
        "    return -1  # No path found\n",
        "\n",
        "def find_first_blocking_byte(grid_size, byte_positions):\n",
        "    \"\"\"Find the first byte that blocks the path to the exit.\"\"\"\n",
        "    grid = [['.' for _ in range(grid_size)] for _ in range(grid_size)]\n",
        "\n",
        "    for i, (x, y) in enumerate(byte_positions):\n",
        "        if 0 <= x < grid_size and 0 <= y < grid_size:  # Ensure the position is within bounds\n",
        "            grid[y][x] = '#'\n",
        "            if find_shortest_path(grid) == -1:\n",
        "                return x, y\n",
        "\n",
        "    return None  # No byte blocks the path\n",
        "\n",
        "def main():\n",
        "    # Read input from file\n",
        "    file_path = \"/content/drive/MyDrive/Personal Project/Advent of Code/2024/Day_18/input_18_12_2024.txt\"  # Replace with your file path\n",
        "    with open(file_path, 'r') as file:\n",
        "        input_data = file.read()\n",
        "\n",
        "    grid_size = 71  # The full grid size is 71x71\n",
        "\n",
        "    byte_positions = parse_input(input_data)\n",
        "    blocking_byte = find_first_blocking_byte(grid_size, byte_positions)\n",
        "\n",
        "    if blocking_byte:\n",
        "        print(f\"The first blocking byte is at: {blocking_byte[0]},{blocking_byte[1]}\")\n",
        "    else:\n",
        "        print(\"No blocking byte found.\")\n",
        "\n",
        "if __name__ == \"__main__\":\n",
        "    main()\n"
      ],
      "metadata": {
        "colab": {
          "base_uri": "https://localhost:8080/"
        },
        "id": "5US4fkMxevWn",
        "outputId": "ac0b3d28-846f-4474-ef06-9bb7e6b7308b"
      },
      "execution_count": 4,
      "outputs": [
        {
          "output_type": "stream",
          "name": "stdout",
          "text": [
            "The first blocking byte is at: 26,22\n"
          ]
        }
      ]
    },
    {
      "cell_type": "code",
      "source": [],
      "metadata": {
        "id": "w2qa9sT9f6a2"
      },
      "execution_count": null,
      "outputs": []
    }
  ]
}