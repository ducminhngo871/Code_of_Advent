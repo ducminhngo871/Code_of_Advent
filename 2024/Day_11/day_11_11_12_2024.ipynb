{
  "nbformat": 4,
  "nbformat_minor": 0,
  "metadata": {
    "colab": {
      "provenance": []
    },
    "kernelspec": {
      "name": "python3",
      "display_name": "Python 3"
    },
    "language_info": {
      "name": "python"
    }
  },
  "cells": [
    {
      "cell_type": "code",
      "execution_count": 1,
      "metadata": {
        "colab": {
          "base_uri": "https://localhost:8080/"
        },
        "id": "_aQQ3dlbmfGn",
        "outputId": "36477063-afd6-49bc-b2ec-969efa614f1a"
      },
      "outputs": [
        {
          "output_type": "stream",
          "name": "stdout",
          "text": [
            "Total stones after 25 blinks: 202019\n"
          ]
        }
      ],
      "source": [
        "# Read input file and parse initial numbers\n",
        "def read_input(file_path):\n",
        "    with open(file_path, 'r') as file:\n",
        "        line = file.readline().strip()\n",
        "        return list(map(int, line.split()))\n",
        "\n",
        "# Perform a single blink on the list of stones\n",
        "def blink(stones):\n",
        "    new_stones = []\n",
        "    for stone in stones:\n",
        "        if stone == 0:\n",
        "            new_stones.append(1)\n",
        "        elif len(str(stone)) % 2 == 0:\n",
        "            # Split the number into two halves\n",
        "            num_str = str(stone)\n",
        "            mid = len(num_str) // 2\n",
        "            left = int(num_str[:mid])\n",
        "            right = int(num_str[mid:])\n",
        "            new_stones.extend([left, right])\n",
        "        else:\n",
        "            # Multiply by 2024\n",
        "            new_stones.append(stone * 2024)\n",
        "    return new_stones\n",
        "\n",
        "# Perform multiple blinks and count stones\n",
        "def simulate_blinks(stones, num_blinks):\n",
        "    for _ in range(num_blinks):\n",
        "        stones = blink(stones)\n",
        "    return stones\n",
        "\n",
        "if __name__ == \"__main__\":\n",
        "    # File containing the input numbers\n",
        "    input_file = \"/content/drive/MyDrive/Personal Project/Advent of Code/2024/Day_11/input_11_12_2024.txt\"\n",
        "\n",
        "    # Number of blinks to simulate\n",
        "    num_blinks = 25\n",
        "\n",
        "    # Read initial stone arrangement\n",
        "    initial_stones = read_input(input_file)\n",
        "\n",
        "    # Simulate the blinking process\n",
        "    final_stones = simulate_blinks(initial_stones, num_blinks)\n",
        "\n",
        "    # Output the total number of stones\n",
        "    print(f\"Total stones after {num_blinks} blinks: {len(final_stones)}\")\n"
      ]
    },
    {
      "cell_type": "code",
      "source": [
        "# Read input file and parse initial numbers\n",
        "def read_input(file_path):\n",
        "    with open(file_path, 'r') as file:\n",
        "        line = file.readline().strip()\n",
        "        return list(map(int, line.split()))\n",
        "\n",
        "# Perform a single blink on the frequency map of stones\n",
        "def blink(frequency):\n",
        "    new_frequency = {}\n",
        "    for stone, count in frequency.items():\n",
        "        if stone == 0:\n",
        "            new_frequency[1] = new_frequency.get(1, 0) + count\n",
        "        elif len(str(stone)) % 2 == 0:\n",
        "            # Split the number into two halves\n",
        "            num_str = str(stone)\n",
        "            mid = len(num_str) // 2\n",
        "            left = int(num_str[:mid])\n",
        "            right = int(num_str[mid:])\n",
        "            new_frequency[left] = new_frequency.get(left, 0) + count\n",
        "            new_frequency[right] = new_frequency.get(right, 0) + count\n",
        "        else:\n",
        "            # Multiply by 2024\n",
        "            new_stone = stone * 2024\n",
        "            new_frequency[new_stone] = new_frequency.get(new_stone, 0) + count\n",
        "    return new_frequency\n",
        "\n",
        "# Perform multiple blinks and count stones\n",
        "def simulate_blinks(stones, num_blinks):\n",
        "    # Initialize frequency map\n",
        "    frequency = {}\n",
        "    for stone in stones:\n",
        "        frequency[stone] = frequency.get(stone, 0) + 1\n",
        "\n",
        "    # Perform blinks\n",
        "    for _ in range(num_blinks):\n",
        "        frequency = blink(frequency)\n",
        "\n",
        "    # Return total number of stones\n",
        "    return sum(frequency.values())\n",
        "\n",
        "if __name__ == \"__main__\":\n",
        "    # File containing the input numbers\n",
        "    input_file = \"/content/drive/MyDrive/Personal Project/Advent of Code/2024/Day_11/input_11_12_2024.txt\"\n",
        "\n",
        "    # Number of blinks to simulate\n",
        "    num_blinks = 75\n",
        "\n",
        "    # Read initial stone arrangement\n",
        "    initial_stones = read_input(input_file)\n",
        "\n",
        "    # Simulate the blinking process\n",
        "    total_stones = simulate_blinks(initial_stones, num_blinks)\n",
        "\n",
        "    # Output the total number of stones\n",
        "    print(f\"Total stones after {num_blinks} blinks: {total_stones}\")"
      ],
      "metadata": {
        "colab": {
          "base_uri": "https://localhost:8080/"
        },
        "id": "0JjAB9lamsuR",
        "outputId": "a7eb3df7-e962-40ff-aad7-2114dfde21ec"
      },
      "execution_count": 3,
      "outputs": [
        {
          "output_type": "stream",
          "name": "stdout",
          "text": [
            "Total stones after 75 blinks: 239321955280205\n"
          ]
        }
      ]
    },
    {
      "cell_type": "code",
      "source": [],
      "metadata": {
        "id": "zzENlXG6mz4f"
      },
      "execution_count": null,
      "outputs": []
    }
  ]
}